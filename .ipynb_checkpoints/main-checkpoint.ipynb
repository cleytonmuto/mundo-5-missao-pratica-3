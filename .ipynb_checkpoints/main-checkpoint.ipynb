{
 "cells": [
  {
   "cell_type": "markdown",
   "id": "ece58790",
   "metadata": {
    "vscode": {
     "languageId": "raw"
    }
   },
   "source": [
    "# importe a biblioteca pandas"
   ]
  },
  {
   "cell_type": "code",
   "execution_count": null,
   "id": "911f7c74",
   "metadata": {},
   "outputs": [],
   "source": [
    "\n",
    "import pandas as pd"
   ]
  },
  {
   "cell_type": "markdown",
   "id": "18a62926",
   "metadata": {},
   "source": [
    "# crie uma variável (\"data\") e leia o conteúdo do arquivo CSV, passando como parâmetros o separador de colunas (;), a engine - com o valor ‘python’ e o enconding relativo aos dados constantes no arquivo lido (esse último parâmetro pode ser opcional, dependendo do enconding existente)"
   ]
  },
  {
   "cell_type": "code",
   "execution_count": null,
   "id": "b195a669",
   "metadata": {},
   "outputs": [],
   "source": [
    "data = pd.read_csv('picoweb.csv', sep=';', engine='python', encoding='utf-8')"
   ]
  },
  {
   "cell_type": "code",
   "execution_count": null,
   "id": "1f8f8828",
   "metadata": {},
   "outputs": [],
   "source": [
    "print(\"Informações gerais sobre o conjunto de dados:\")\n",
    "display(data.info())"
   ]
  },
  {
   "cell_type": "code",
   "execution_count": null,
   "id": "6ae34864",
   "metadata": {},
   "outputs": [],
   "source": [
    "print(\"Primeiras 5 linhas:\")\n",
    "display(data.head())"
   ]
  },
  {
   "cell_type": "code",
   "execution_count": null,
   "id": "c984c99f",
   "metadata": {},
   "outputs": [],
   "source": [
    "print(\"Últimas 5 linhas:\")\n",
    "display(data.tail())"
   ]
  },
  {
   "cell_type": "code",
   "execution_count": null,
   "id": "039cdc58",
   "metadata": {},
   "outputs": [],
   "source": [
    "data_copy = data.copy()"
   ]
  },
  {
   "cell_type": "code",
   "execution_count": null,
   "id": "3671f964",
   "metadata": {},
   "outputs": [],
   "source": [
    "data_copy['Calories'] = data_copy['Calories'].fillna(0)\n",
    "print(\"Dados após substituir nulos em 'Calories':\")\n",
    "display(data_copy)"
   ]
  },
  {
   "cell_type": "code",
   "execution_count": null,
   "id": "4a51c7d7",
   "metadata": {},
   "outputs": [],
   "source": [
    "data_copy['Date'] = data_copy['Date'].fillna('1900/01/01')\n",
    "print(\"Dados após substituir nulos em 'Date':\")\n",
    "display(data_copy)"
   ]
  },
  {
   "cell_type": "code",
   "execution_count": null,
   "id": "a938d87d",
   "metadata": {},
   "outputs": [],
   "source": [
    "data_copy['Date'] = pd.to_datetime(data_copy['Date'], errors='coerce')\n",
    "print(\"Dados após a conversão inicial para datetime:\")\n",
    "display(data_copy)"
   ]
  },
  {
   "cell_type": "code",
   "execution_count": null,
   "id": "34e1ffef",
   "metadata": {},
   "outputs": [],
   "source": [
    "data_copy['Date'] = data_copy['Date'].replace('1900-01-01', pd.NaT)\n",
    "print(\"Dados após substituir '1900/01/01' por NaN:\")\n",
    "display(data_copy)"
   ]
  },
  {
   "cell_type": "code",
   "execution_count": null,
   "id": "f2eae22d",
   "metadata": {},
   "outputs": [],
   "source": [
    "data_copy['Date'] = pd.to_datetime(data_copy['Date'], errors='coerce')\n",
    "print(\"Dados após a nova conversão para datetime:\")\n",
    "display(data_copy)"
   ]
  },
  {
   "cell_type": "code",
   "execution_count": null,
   "id": "b002bd90",
   "metadata": {},
   "outputs": [],
   "source": [
    "data_copy['Date'] = data_copy['Date'].replace('20201226', '2020/12/26')"
   ]
  },
  {
   "cell_type": "code",
   "execution_count": null,
   "id": "545f7cb2",
   "metadata": {},
   "outputs": [],
   "source": [
    "data_copy['Date'] = pd.to_datetime(data_copy['Date'], errors='coerce')\n",
    "print(\"Dados após corrigir '20201226' e converter para datetime:\")\n",
    "display(data_copy)"
   ]
  },
  {
   "cell_type": "code",
   "execution_count": null,
   "id": "758f64d1",
   "metadata": {},
   "outputs": [],
   "source": [
    "data_copy.dropna(subset=['Date'], inplace=True)"
   ]
  },
  {
   "cell_type": "code",
   "execution_count": null,
   "id": "277f5532",
   "metadata": {},
   "outputs": [],
   "source": [
    "print(\"Dados finais após todas as transformações e remoção de nulos:\")\n",
    "display(data_copy)"
   ]
  }
 ],
 "metadata": {
  "language_info": {
   "name": "python"
  }
 },
 "nbformat": 4,
 "nbformat_minor": 5
}
